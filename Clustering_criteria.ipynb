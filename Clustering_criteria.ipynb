{
 "cells": [
  {
   "cell_type": "markdown",
   "metadata": {},
   "source": [
    "## When Clustering Doesn’t Make Sense"
   ]
  },
  {
   "cell_type": "markdown",
   "metadata": {},
   "source": [
    "### 1. Does your data already have a potential class label?\n",
    "\n",
    "Using the existing class label in your data is often better than trying to create a new label for your data from clustering. If you have the option, supervised machine learning almost always outperforms unsupervised learning in classification tasks."
   ]
  },
  {
   "cell_type": "markdown",
   "metadata": {},
   "source": [
    "If you have data but have no way to organize the data into meaningful groups, then clustering makes sense. But if you already have an intuitive class label in your data set, then the labels created by a clustering analysis may not perform as well as the original class label."
   ]
  },
  {
   "cell_type": "markdown",
   "metadata": {},
   "source": [
    "## 2. Is your data categorical or continuous?\n",
    "Many clustering algorithms (like DBSCAN or K-Means) use a distance measurement to calculate the similarity between observations. Because of this, certain clustering algorithms will perform better with continuous attributes.\n",
    "However, if you have categorical data, you can one-hot encode the attributes or use a clustering algorithm built for categorical data, such as K-Modes. It should be noted that it does not make a lot of sense to calculate distance between binary variables."
   ]
  },
  {
   "cell_type": "markdown",
   "metadata": {},
   "source": [
    "## 3. What does your data look like?\n",
    "If visualization reveals that your data has no amount of separation or distinct groups, then clustering may not be appropriate."
   ]
  },
  {
   "cell_type": "markdown",
   "metadata": {},
   "source": [
    "## 4. Do you have a way to validate your clustering algorithm?\n",
    "In order to trust the clustering algorithm results, you must have a method for measuring the algorithm's performance. Clustering algorithm performance can be validated with either internal or external validation metrics.\n",
    "An example of internal validation is the silhouette score, a way to measure how well each observation is clustered. The silhouette plot shows the relative size of the clusters, the average silhouette score, and whether observations may have been clustered incorrectly. The red line in the graph below indicates the average silhouette score for six clusters: about 0.45 (with 1 being perfect, 0.45 is not a great score)."
   ]
  },
  {
   "cell_type": "markdown",
   "metadata": {},
   "source": [
    "An example of external validation is when the class label for a data set is already known, but you want to test how well a particular clustering algorithm performs on predicting the existing classes. A noteworthy caveat to the external validation approach is that there is not a huge use case for clustering if the data already has class labels!"
   ]
  },
  {
   "cell_type": "markdown",
   "metadata": {},
   "source": [
    "Some algorithms may perform deceivingly well with certain validation metrics, so you may need to use a combination of performance metrics to negate this issue"
   ]
  },
  {
   "cell_type": "markdown",
   "metadata": {},
   "source": [
    "## 5. Does clustering provide any new insight into the data?\n",
    "you have continuous data with no class label, you visualize the data and there is some separation, and you choose a validation metric that makes sense for your analysis. You run a clustering algorithm on the data and obtain a reasonably high silhouette score. Exciting! Unfortunately, your work is not done.\n",
    "\n",
    "After performing a clustering analysis, it is crucial to examine the observations in the individual clusters. This step allows you to assess whether or not the clusters provide any new insight into the data. Did the algorithm really find similar groups of observations and maximize intraclass similarity while minimizing between cluster similarity?"
   ]
  },
  {
   "cell_type": "markdown",
   "metadata": {},
   "source": [
    "### An easy way to examine clusters is to calculate simple statistics for the observations in each cluster, such as the mean"
   ]
  },
  {
   "cell_type": "markdown",
   "metadata": {},
   "source": [
    "The mean of different clusters should not be identical. This demonstrates that, while the algorithm did cluster the data, the clusters are not substantially different from each other! If clustering fails to produce any new or useful insights into your data, then your data is not well suited for clustering."
   ]
  }
 ],
 "metadata": {
  "kernelspec": {
   "display_name": "Python 3",
   "language": "python",
   "name": "python3"
  },
  "language_info": {
   "codemirror_mode": {
    "name": "ipython",
    "version": 3
   },
   "file_extension": ".py",
   "mimetype": "text/x-python",
   "name": "python",
   "nbconvert_exporter": "python",
   "pygments_lexer": "ipython3",
   "version": "3.7.6"
  }
 },
 "nbformat": 4,
 "nbformat_minor": 4
}
